{
 "cells": [
  {
   "cell_type": "markdown",
   "id": "cad9aeb5",
   "metadata": {},
   "source": [
    "TASK 4: Basic Chatbot\n",
    "Goal: Build a simple rule-based chatbot.\n",
    "Scope:\n",
    "● Input from user like: \"hello\", \"how are you\", \"bye\".\n",
    "● Predefined replies like: \"Hi!\", \"I'm fine, thanks!\", \"Goodbye!\".\n",
    "Key Concepts Used: if-elif, functions, loops, input/output.\n"
   ]
  },
  {
   "cell_type": "code",
   "execution_count": 2,
   "id": "b3bc0414",
   "metadata": {},
   "outputs": [
    {
     "name": "stdout",
     "output_type": "stream",
     "text": [
      "🤖 Chatbot: Hello! Type 'bye' to end the chat.\n",
      "🤖 Chatbot: Hi!\n",
      "🤖 Chatbot: I'm fine, thanks! How about you?\n",
      "🤖 Chatbot: Goodbye! Have a nice day! 👋\n"
     ]
    }
   ],
   "source": [
    "# Simple Rule-Based Chatbot\n",
    "\n",
    "def chatbot():\n",
    "    print(\"🤖 Chatbot: Hello! Type 'bye' to end the chat.\")\n",
    "    \n",
    "    while True:\n",
    "        user_input = input(\"You: \").lower()\n",
    "\n",
    "        if user_input == \"hello\":\n",
    "            print(\"🤖 Chatbot: Hi!\")\n",
    "        elif user_input == \"how are you\":\n",
    "            print(\"🤖 Chatbot: I'm fine, thanks! How about you?\")\n",
    "        elif user_input in [\"bye\", \"goodbye\"]:\n",
    "            print(\"🤖 Chatbot: Goodbye! Have a nice day! 👋\")\n",
    "            break\n",
    "        else:\n",
    "            print(\"🤖 Chatbot: Sorry, I don't understand that.\")\n",
    "\n",
    "# Run the chatbot\n",
    "chatbot()\n"
   ]
  }
 ],
 "metadata": {
  "kernelspec": {
   "display_name": "Python 3",
   "language": "python",
   "name": "python3"
  },
  "language_info": {
   "codemirror_mode": {
    "name": "ipython",
    "version": 3
   },
   "file_extension": ".py",
   "mimetype": "text/x-python",
   "name": "python",
   "nbconvert_exporter": "python",
   "pygments_lexer": "ipython3",
   "version": "3.13.2"
  }
 },
 "nbformat": 4,
 "nbformat_minor": 5
}
